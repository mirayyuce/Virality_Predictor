{
 "cells": [
  {
   "cell_type": "code",
   "execution_count": 11,
   "metadata": {},
   "outputs": [],
   "source": [
    "import Utils as utils\n",
    "import TFIDF_Classification_Utils as cls_utils\n",
    "\n",
    "import pandas as pd\n",
    "import numpy as np\n",
    "from sklearn.externals import joblib\n",
    "\n",
    "from sklearn.feature_extraction.text import TfidfVectorizer\n",
    "from sklearn.pipeline import Pipeline\n",
    "from sklearn.neighbors import KNeighborsClassifier\n",
    "from sklearn.metrics import f1_score, classification_report\n",
    "\n",
    "import matplotlib\n",
    "matplotlib.use('MacOSX')\n",
    "%matplotlib inline\n",
    "from matplotlib import pyplot as plt"
   ]
  },
  {
   "cell_type": "code",
   "execution_count": 12,
   "metadata": {},
   "outputs": [],
   "source": [
    "###### TO LOAD PIPELINE ########\n",
    "# pipeline = joblib.load('/home/Virality_Predictor/models/Classification_EN_pipeline.pkl') "
   ]
  },
  {
   "cell_type": "code",
   "execution_count": 13,
   "metadata": {},
   "outputs": [
    {
     "name": "stderr",
     "output_type": "stream",
     "text": [
      "/Users/mirayyuce/Desktop/Projects/Virality_Predictor/Utils.py:82: SettingWithCopyWarning: \n",
      "A value is trying to be set on a copy of a slice from a DataFrame.\n",
      "Try using .loc[row_indexer,col_indexer] = value instead\n",
      "\n",
      "See the caveats in the documentation: https://pandas.pydata.org/pandas-docs/stable/user_guide/indexing.html#returning-a-view-versus-a-copy\n",
      "  df['domain_name'] = df['url'].apply(split_url)\n"
     ]
    }
   ],
   "source": [
    "# Load articles\n",
    "shared_articles_df = utils.load_shared_articles('shared_articles.csv', ['en'])\n",
    "\n",
    "# Load users with raw virality values\n",
    "user_interactions_df_raw = utils.load_user_interactions('users_interactions.csv', shared_articles_df, to_normalize=False)"
   ]
  },
  {
   "cell_type": "code",
   "execution_count": 14,
   "metadata": {},
   "outputs": [],
   "source": [
    "# Calculate virality classses\n",
    "shared_articles_df = cls_utils.calculate_virality(shared_articles_df, user_interactions_df_raw)\n"
   ]
  },
  {
   "cell_type": "code",
   "execution_count": 15,
   "metadata": {},
   "outputs": [
    {
     "data": {
      "text/plain": [
       "(2149,)"
      ]
     },
     "execution_count": 15,
     "metadata": {},
     "output_type": "execute_result"
    }
   ],
   "source": [
    "shared_articles_df.virality.shape"
   ]
  },
  {
   "cell_type": "code",
   "execution_count": 16,
   "metadata": {},
   "outputs": [
    {
     "data": {
      "text/plain": [
       "virality\n",
       "1    2124\n",
       "2      21\n",
       "3       3\n",
       "9       1\n",
       "dtype: int64"
      ]
     },
     "execution_count": 16,
     "metadata": {},
     "output_type": "execute_result"
    }
   ],
   "source": [
    "shared_articles_df.groupby([\"virality\"]).size()"
   ]
  },
  {
   "cell_type": "code",
   "execution_count": 17,
   "metadata": {},
   "outputs": [
    {
     "data": {
      "text/plain": [
       "virality\n",
       "1    2124\n",
       "2    2103\n",
       "3    2121\n",
       "9    2123\n",
       "dtype: int64"
      ]
     },
     "execution_count": 17,
     "metadata": {},
     "output_type": "execute_result"
    }
   ],
   "source": [
    "shared_articles_df_upsampled = cls_utils.upsample_minority_classes(shared_articles_df)\n",
    "shared_articles_df_upsampled.groupby([\"virality\"]).size()"
   ]
  },
  {
   "cell_type": "code",
   "execution_count": 18,
   "metadata": {},
   "outputs": [
    {
     "name": "stdout",
     "output_type": "stream",
     "text": [
      "Dataset shapes: Train data 6776 , Test data 1695 , Train labels  6776 , Test labels 1695\n"
     ]
    }
   ],
   "source": [
    "# Create train and test sets\n",
    "articles_train, labels_train, articles_test, labels_test = cls_utils.get_train_test_datasets(shared_articles_df_upsampled)"
   ]
  },
  {
   "cell_type": "code",
   "execution_count": 19,
   "metadata": {},
   "outputs": [],
   "source": [
    "# Load cleaned text from /datasets\n",
    "train_df = cls_utils.clean_all_text(load=True, df=articles_train, name='articles_train_EN_upsampled', lang='en')\n",
    "test_df = cls_utils.clean_all_text(load=True, df=articles_test, name='articles_test_EN_upsampled', lang='en')"
   ]
  },
  {
   "cell_type": "code",
   "execution_count": 20,
   "metadata": {},
   "outputs": [
    {
     "data": {
      "text/plain": [
       "virality\n",
       "1    1703\n",
       "2    1670\n",
       "3    1698\n",
       "9    1705\n",
       "dtype: int64"
      ]
     },
     "execution_count": 20,
     "metadata": {},
     "output_type": "execute_result"
    }
   ],
   "source": [
    "# Check train labels distribution\n",
    "x = labels_train.to_frame(name='virality')\n",
    "x.groupby(['virality']).size()"
   ]
  },
  {
   "cell_type": "code",
   "execution_count": 21,
   "metadata": {},
   "outputs": [
    {
     "data": {
      "text/plain": [
       "virality\n",
       "1    421\n",
       "2    433\n",
       "3    423\n",
       "9    418\n",
       "dtype: int64"
      ]
     },
     "execution_count": 21,
     "metadata": {},
     "output_type": "execute_result"
    }
   ],
   "source": [
    "# Check test labels distribution\n",
    "x = labels_test.to_frame(name='virality')\n",
    "x.groupby(['virality']).size()"
   ]
  },
  {
   "cell_type": "code",
   "execution_count": 22,
   "metadata": {},
   "outputs": [],
   "source": [
    "# Parameters set for grid search\n",
    "parameters = {\n",
    "'model__n_neighbors': (5, 10, 40),\n",
    "'model__weights': ('uniform', 'distance'), \n",
    "}"
   ]
  },
  {
   "cell_type": "code",
   "execution_count": 23,
   "metadata": {},
   "outputs": [],
   "source": [
    "pipeline = Pipeline([\n",
    "    ('tfidf', TfidfVectorizer(max_features = 50,\n",
    "                        ngram_range = (1, 1),\n",
    "                        min_df = 3,\n",
    "                        max_df = 200)),\n",
    "     ('model', KNeighborsClassifier())\n",
    "   ])"
   ]
  },
  {
   "cell_type": "code",
   "execution_count": 24,
   "metadata": {},
   "outputs": [
    {
     "name": "stdout",
     "output_type": "stream",
     "text": [
      "model__n_neighbors: 5\n",
      "model__weights: 'distance'\n",
      "{'mean_fit_time': array([12.86554758, 13.78421696, 15.40431341, 18.5750649 , 19.12839087,\n",
      "       15.51068338]), 'std_fit_time': array([0.04760908, 0.65515824, 1.3782171 , 0.28405418, 0.04351134,\n",
      "       3.37013161]), 'mean_score_time': array([ 8.24771452,  8.20206873, 10.50406122, 13.24259241, 14.27251466,\n",
      "       10.50388495]), 'std_score_time': array([0.04806108, 0.54700922, 2.09741859, 0.38145993, 0.11187266,\n",
      "       0.98283225]), 'param_model__n_neighbors': masked_array(data=[5, 5, 10, 10, 40, 40],\n",
      "             mask=[False, False, False, False, False, False],\n",
      "       fill_value='?',\n",
      "            dtype=object), 'param_model__weights': masked_array(data=['uniform', 'distance', 'uniform', 'distance',\n",
      "                   'uniform', 'distance'],\n",
      "             mask=[False, False, False, False, False, False],\n",
      "       fill_value='?',\n",
      "            dtype=object), 'params': [{'model__n_neighbors': 5, 'model__weights': 'uniform'}, {'model__n_neighbors': 5, 'model__weights': 'distance'}, {'model__n_neighbors': 10, 'model__weights': 'uniform'}, {'model__n_neighbors': 10, 'model__weights': 'distance'}, {'model__n_neighbors': 40, 'model__weights': 'uniform'}, {'model__n_neighbors': 40, 'model__weights': 'distance'}], 'split0_test_score': array([0.65221239, 0.65309735, 0.64911504, 0.64911504, 0.62699115,\n",
      "       0.64070796]), 'split1_test_score': array([0.63656485, 0.63656485, 0.63302346, 0.63346614, 0.62018592,\n",
      "       0.62416999]), 'split2_test_score': array([0.64155959, 0.64200266, 0.64023039, 0.64067346, 0.62029242,\n",
      "       0.62738148]), 'mean_test_score': array([0.64344746, 0.6438902 , 0.64079103, 0.64108619, 0.62249115,\n",
      "       0.63075561]), 'std_test_score': array([0.00652707, 0.00688114, 0.00658251, 0.00639647, 0.00318369,\n",
      "       0.00716149]), 'rank_test_score': array([2, 1, 4, 3, 6, 5], dtype=int32), 'split0_train_score': array([0.65566873, 0.66076174, 0.65256864, 0.66076174, 0.62865368,\n",
      "       0.66076174]), 'split1_train_score': array([0.64976754, 0.65419526, 0.64622537, 0.65419526, 0.62984282,\n",
      "       0.65419526]), 'split2_train_score': array([0.6490374 , 0.65324187, 0.64704581, 0.65324187, 0.63221952,\n",
      "       0.65324187]), 'mean_train_score': array([0.65149123, 0.65606629, 0.64861327, 0.65606629, 0.63023867,\n",
      "       0.65606629]), 'std_train_score': array([0.00296895, 0.00334292, 0.00281685, 0.00334292, 0.00148242,\n",
      "       0.00334292])}\n",
      "0.6438902007083825\n",
      "<function _passthrough_scorer at 0x122f53598>\n"
     ]
    }
   ],
   "source": [
    "# Run grid search for the given model\n",
    "cls_utils.hyperparameter_search(parameters, pipeline, train_df, labels_train)"
   ]
  },
  {
   "cell_type": "code",
   "execution_count": 25,
   "metadata": {},
   "outputs": [],
   "source": [
    "# New pipeline with optimum parameters from grid search"
   ]
  },
  {
   "cell_type": "code",
   "execution_count": 26,
   "metadata": {},
   "outputs": [],
   "source": [
    "pipeline = Pipeline([\n",
    "    ('tfidf', TfidfVectorizer(max_features = 50,\n",
    "                        ngram_range = (1, 1),\n",
    "                        min_df = 3,\n",
    "                        max_df = 200)),\n",
    "     ('model', KNeighborsClassifier(n_neighbors= 5, weights= 'distance'))\n",
    "   ])"
   ]
  },
  {
   "cell_type": "code",
   "execution_count": 27,
   "metadata": {},
   "outputs": [
    {
     "data": {
      "text/plain": [
       "Pipeline(memory=None,\n",
       "     steps=[('tfidf', TfidfVectorizer(analyzer='word', binary=False, decode_error='strict',\n",
       "        dtype=<class 'numpy.float64'>, encoding='utf-8', input='content',\n",
       "        lowercase=True, max_df=200, max_features=50, min_df=3,\n",
       "        ngram_range=(1, 1), norm='l2', preprocessor=None, smooth_idf=True,\n",
       " ...i',\n",
       "           metric_params=None, n_jobs=None, n_neighbors=5, p=2,\n",
       "           weights='distance'))])"
      ]
     },
     "execution_count": 27,
     "metadata": {},
     "output_type": "execute_result"
    }
   ],
   "source": [
    "pipeline.fit(train_df, labels_train)"
   ]
  },
  {
   "cell_type": "code",
   "execution_count": 28,
   "metadata": {},
   "outputs": [],
   "source": [
    "labels_pred = pipeline.predict(test_df)"
   ]
  },
  {
   "cell_type": "code",
   "execution_count": 29,
   "metadata": {},
   "outputs": [
    {
     "name": "stdout",
     "output_type": "stream",
     "text": [
      "              precision    recall  f1-score   support\n",
      "\n",
      "           1       1.00      0.63      0.78       421\n",
      "           2       0.99      0.70      0.82       433\n",
      "           3       0.38      1.00      0.55       423\n",
      "           9       0.00      0.00      0.00       418\n",
      "\n",
      "   micro avg       0.58      0.58      0.58      1695\n",
      "   macro avg       0.59      0.58      0.53      1695\n",
      "weighted avg       0.60      0.58      0.54      1695\n",
      "\n"
     ]
    },
    {
     "name": "stderr",
     "output_type": "stream",
     "text": [
      "/Users/mirayyuce/.virtualenvs/thesis/lib/python3.7/site-packages/sklearn/metrics/classification.py:1143: UndefinedMetricWarning: Precision and F-score are ill-defined and being set to 0.0 in labels with no predicted samples.\n",
      "  'precision', 'predicted', average, warn_for)\n"
     ]
    }
   ],
   "source": [
    "print(classification_report(labels_test, labels_pred))"
   ]
  },
  {
   "cell_type": "code",
   "execution_count": 30,
   "metadata": {},
   "outputs": [
    {
     "name": "stderr",
     "output_type": "stream",
     "text": [
      "/Users/mirayyuce/.virtualenvs/thesis/lib/python3.7/site-packages/sklearn/metrics/classification.py:1143: UndefinedMetricWarning: F-score is ill-defined and being set to 0.0 in labels with no predicted samples.\n",
      "  'precision', 'predicted', average, warn_for)\n"
     ]
    },
    {
     "data": {
      "text/plain": [
       "0.5379195267337858"
      ]
     },
     "execution_count": 30,
     "metadata": {},
     "output_type": "execute_result"
    }
   ],
   "source": [
    "f1_score(labels_test, labels_pred, average='weighted')"
   ]
  },
  {
   "cell_type": "code",
   "execution_count": 31,
   "metadata": {},
   "outputs": [
    {
     "data": {
      "text/plain": [
       "['ad',\n",
       " 'afraid',\n",
       " 'ambiguity',\n",
       " 'analytics',\n",
       " 'angular',\n",
       " 'assert',\n",
       " 'assertion',\n",
       " 'bdd',\n",
       " 'bitcoin',\n",
       " 'blockchain',\n",
       " 'bock',\n",
       " 'callback',\n",
       " 'changelog',\n",
       " 'compete',\n",
       " 'couchdb',\n",
       " 'deepequal',\n",
       " 'destination',\n",
       " 'drupal',\n",
       " 'electron',\n",
       " 'elixir',\n",
       " 'enforce',\n",
       " 'fixture',\n",
       " 'frontend',\n",
       " 'growth',\n",
       " 'handler',\n",
       " 'humility',\n",
       " 'icon',\n",
       " 'independent',\n",
       " 'jquery',\n",
       " 'kurzweil',\n",
       " 'le',\n",
       " 'liquibase',\n",
       " 'logical',\n",
       " 'martin',\n",
       " 'meeting',\n",
       " 'mysql',\n",
       " 'npm',\n",
       " 'override',\n",
       " 'parent',\n",
       " 'procedure',\n",
       " 'progressive',\n",
       " 'qunit',\n",
       " 'responsible',\n",
       " 'ruby',\n",
       " 'science',\n",
       " 'superior',\n",
       " 'synchronous',\n",
       " 'typescript',\n",
       " 'vr',\n",
       " 'xml']"
      ]
     },
     "execution_count": 31,
     "metadata": {},
     "output_type": "execute_result"
    }
   ],
   "source": [
    "pipeline.named_steps['tfidf'].get_feature_names()"
   ]
  },
  {
   "cell_type": "code",
   "execution_count": 32,
   "metadata": {},
   "outputs": [
    {
     "data": {
      "text/plain": [
       "['Classification_EN_pipeline.pkl']"
      ]
     },
     "execution_count": 32,
     "metadata": {},
     "output_type": "execute_result"
    }
   ],
   "source": [
    "joblib.dump(pipeline, '/home/Virality_Predictor/models/Classification_EN_pipeline.pkl')"
   ]
  },
  {
   "cell_type": "code",
   "execution_count": null,
   "metadata": {},
   "outputs": [],
   "source": []
  }
 ],
 "metadata": {
  "kernelspec": {
   "display_name": "Python 3",
   "language": "python",
   "name": "python3"
  },
  "language_info": {
   "codemirror_mode": {
    "name": "ipython",
    "version": 3
   },
   "file_extension": ".py",
   "mimetype": "text/x-python",
   "name": "python",
   "nbconvert_exporter": "python",
   "pygments_lexer": "ipython3",
   "version": "3.7.3"
  }
 },
 "nbformat": 4,
 "nbformat_minor": 4
}
