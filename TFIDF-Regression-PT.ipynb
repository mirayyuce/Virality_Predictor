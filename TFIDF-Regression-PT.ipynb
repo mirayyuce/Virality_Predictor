{
 "cells": [
  {
   "cell_type": "code",
   "execution_count": 14,
   "metadata": {},
   "outputs": [],
   "source": [
    "import Utils as utils\n",
    "import TFIDF_Regression_Utils as reg_utils\n",
    "\n",
    "import pandas as pd\n",
    "import numpy as np\n",
    "from sklearn.externals import joblib\n",
    "\n",
    "from sklearn.feature_extraction.text import TfidfVectorizer\n",
    "from sklearn.pipeline import Pipeline\n",
    "from sklearn.linear_model import SGDRegressor\n",
    "from sklearn.metrics import mean_squared_error\n",
    "\n",
    "import matplotlib\n",
    "matplotlib.use('MacOSX')\n",
    "%matplotlib inline\n",
    "from matplotlib import pyplot as plt"
   ]
  },
  {
   "cell_type": "code",
   "execution_count": 30,
   "metadata": {},
   "outputs": [],
   "source": [
    "###### TO LOAD PIPELINE ########\n",
    "# pipeline = joblib.load('/home/Virality_Predictor/models/Regression_PT_pipeline.pkl') "
   ]
  },
  {
   "cell_type": "code",
   "execution_count": 16,
   "metadata": {},
   "outputs": [
    {
     "name": "stderr",
     "output_type": "stream",
     "text": [
      "/Users/mirayyuce/Desktop/Projects/Virality_Predictor/Utils.py:82: SettingWithCopyWarning: \n",
      "A value is trying to be set on a copy of a slice from a DataFrame.\n",
      "Try using .loc[row_indexer,col_indexer] = value instead\n",
      "\n",
      "See the caveats in the documentation: https://pandas.pydata.org/pandas-docs/stable/user_guide/indexing.html#returning-a-view-versus-a-copy\n",
      "  df['domain_name'] = df['url'].apply(split_url)\n"
     ]
    }
   ],
   "source": [
    "# Load articles\n",
    "shared_articles_df = utils.load_shared_articles('shared_articles.csv', ['pt'])\n",
    "\n",
    "# Load users with raw virality values\n",
    "user_interactions_df_raw = utils.load_user_interactions('users_interactions.csv', shared_articles_df, to_normalize=False)"
   ]
  },
  {
   "cell_type": "code",
   "execution_count": 17,
   "metadata": {},
   "outputs": [],
   "source": [
    "# Calculate virality classses\n",
    "shared_articles_df = reg_utils.calculate_virality(shared_articles_df, user_interactions_df_raw)"
   ]
  },
  {
   "cell_type": "code",
   "execution_count": 18,
   "metadata": {},
   "outputs": [
    {
     "name": "stdout",
     "output_type": "stream",
     "text": [
      "Dataset shapes: Train data 658 , Test data 165 , Train labels  658 , Test labels 165\n"
     ]
    }
   ],
   "source": [
    "# Create train and test sets\n",
    "articles_train, labels_train, articles_test, labels_test = reg_utils.get_train_test_datasets(shared_articles_df)"
   ]
  },
  {
   "cell_type": "code",
   "execution_count": 19,
   "metadata": {},
   "outputs": [],
   "source": [
    "# Load cleaned text from /datasets\n",
    "train_df = reg_utils.clean_all_text(load=True, df=articles_train, name='articles_train_PT', lang='pt')\n",
    "test_df = reg_utils.clean_all_text(load=True, df=articles_test, name='articles_test_PT', lang='pt')"
   ]
  },
  {
   "cell_type": "code",
   "execution_count": 20,
   "metadata": {},
   "outputs": [],
   "source": [
    "# Parameters set for grid search\n",
    "\n",
    "parameters = {\n",
    "'model__learning_rate': ('constant', 'optimal', 'adaptive'),\n",
    "'model__eta0': (0.1, 0.01, 0.001),  \n",
    "}"
   ]
  },
  {
   "cell_type": "code",
   "execution_count": 21,
   "metadata": {},
   "outputs": [],
   "source": [
    "pipeline = Pipeline([\n",
    "    ('tfidf', TfidfVectorizer(max_features = 50,\n",
    "                        ngram_range = (1, 1),\n",
    "                        min_df = 3,\n",
    "                        max_df = 200)),\n",
    "     ('model', SGDRegressor())\n",
    "   ])"
   ]
  },
  {
   "cell_type": "code",
   "execution_count": 22,
   "metadata": {},
   "outputs": [
    {
     "name": "stderr",
     "output_type": "stream",
     "text": [
      "/Users/mirayyuce/.virtualenvs/thesis/lib/python3.7/site-packages/sklearn/model_selection/_search.py:841: DeprecationWarning: The default of the `iid` parameter will change from True to False in version 0.22 and will be removed in 0.24. This will change numeric results when test-set sizes are unequal.\n",
      "  DeprecationWarning)\n"
     ]
    },
    {
     "name": "stdout",
     "output_type": "stream",
     "text": [
      "model__eta0: 0.01\n",
      "model__learning_rate: 'constant'\n",
      "{'mean_fit_time': array([0.80932895, 0.7436436 , 0.91354545, 1.19212723, 0.99094447,\n",
      "       0.8367641 , 0.79306777, 1.09811393, 0.70732498]), 'std_fit_time': array([0.0196803 , 0.0627941 , 0.3081662 , 0.04540936, 0.08224536,\n",
      "       0.16580063, 0.08934602, 0.07202808, 0.01401557]), 'mean_score_time': array([0.26346238, 0.22894001, 0.25885757, 0.34275015, 0.21876391,\n",
      "       0.24876817, 0.33586971, 0.35275412, 0.24687433]), 'std_score_time': array([0.01826992, 0.03894604, 0.02152423, 0.07957141, 0.0447089 ,\n",
      "       0.04107295, 0.07330255, 0.05964201, 0.00336226]), 'param_model__eta0': masked_array(data=[0.1, 0.1, 0.1, 0.01, 0.01, 0.01, 0.001, 0.001, 0.001],\n",
      "             mask=[False, False, False, False, False, False, False, False,\n",
      "                   False],\n",
      "       fill_value='?',\n",
      "            dtype=object), 'param_model__learning_rate': masked_array(data=['constant', 'optimal', 'adaptive', 'constant',\n",
      "                   'optimal', 'adaptive', 'constant', 'optimal',\n",
      "                   'adaptive'],\n",
      "             mask=[False, False, False, False, False, False, False, False,\n",
      "                   False],\n",
      "       fill_value='?',\n",
      "            dtype=object), 'params': [{'model__eta0': 0.1, 'model__learning_rate': 'constant'}, {'model__eta0': 0.1, 'model__learning_rate': 'optimal'}, {'model__eta0': 0.1, 'model__learning_rate': 'adaptive'}, {'model__eta0': 0.01, 'model__learning_rate': 'constant'}, {'model__eta0': 0.01, 'model__learning_rate': 'optimal'}, {'model__eta0': 0.01, 'model__learning_rate': 'adaptive'}, {'model__eta0': 0.001, 'model__learning_rate': 'constant'}, {'model__eta0': 0.001, 'model__learning_rate': 'optimal'}, {'model__eta0': 0.001, 'model__learning_rate': 'adaptive'}], 'split0_test_score': array([ 7.36236563e-03, -1.79372899e+27,  3.12918531e-02,  3.62884282e-02,\n",
      "       -1.64777371e+27,  3.53318806e-02, -1.21722920e-01, -1.75458240e+27,\n",
      "       -1.21546206e-01]), 'split1_test_score': array([-1.54876342e-01, -2.72014624e+27, -3.46689411e-01,  7.66853614e-03,\n",
      "       -2.69856377e+27,  8.38836703e-03, -1.05126437e-01, -2.11490393e+27,\n",
      "       -1.05223556e-01]), 'split2_test_score': array([-3.70149103e-02, -1.48824668e+27, -4.64819922e-02,  3.67954215e-02,\n",
      "       -2.11281770e+27,  3.69738611e-02, -1.17695801e-01, -1.55005635e+27,\n",
      "       -1.17238935e-01]), 'mean_test_score': array([-6.14049602e-02, -2.00039275e+27, -1.20395638e-01,  2.69317035e-02,\n",
      "       -2.15228383e+27,  2.69108536e-02, -1.14858834e-01, -1.80643530e+27,\n",
      "       -1.14680017e-01]), 'std_test_score': array([6.84614503e-02, 5.23447702e+26, 1.62957052e-01, 1.36071691e-02,\n",
      "       4.30049438e+26, 1.30996256e-02, 7.06801823e-03, 2.33334849e+26,\n",
      "       6.90687351e-03]), 'rank_test_score': array([3, 8, 6, 1, 9, 2, 5, 7, 4], dtype=int32), 'split0_train_score': array([ 1.49840564e-01, -2.56067710e+27,  1.31088256e-01,  8.48513342e-02,\n",
      "       -2.23729038e+27,  8.45293826e-02, -1.09269095e-01, -1.87843266e+27,\n",
      "       -1.09061533e-01]), 'split1_train_score': array([ 1.74141281e-01, -1.79563335e+27,  1.11351465e-01,  9.96690543e-02,\n",
      "       -1.83686397e+27,  9.94783832e-02, -1.05918540e-01, -1.73412581e+27,\n",
      "       -1.05997621e-01]), 'split2_train_score': array([ 1.50560551e-01, -1.44804990e+27,  1.31251359e-01,  8.61355006e-02,\n",
      "       -2.26785911e+27,  8.60796212e-02, -1.13197629e-01, -1.79639556e+27,\n",
      "       -1.12762745e-01]), 'mean_train_score': array([ 1.58180799e-01, -1.93478678e+27,  1.24563693e-01,  9.02186297e-02,\n",
      "       -2.11400449e+27,  9.00291290e-02, -1.09461755e-01, -1.80298468e+27,\n",
      "       -1.09273966e-01]), 'std_train_score': array([1.12895926e-02, 4.64763438e+26, 9.34269359e-03, 6.70299260e-03,\n",
      "       1.96364902e+26, 6.71153800e-03, 2.97479644e-03, 5.90969809e+25,\n",
      "       2.76593211e-03])}\n",
      "0.026931703526692226\n",
      "<function _passthrough_scorer at 0x11f5ef730>\n"
     ]
    },
    {
     "name": "stderr",
     "output_type": "stream",
     "text": [
      "/Users/mirayyuce/.virtualenvs/thesis/lib/python3.7/site-packages/sklearn/linear_model/stochastic_gradient.py:144: FutureWarning: max_iter and tol parameters have been added in SGDRegressor in 0.19. If both are left unset, they default to max_iter=5 and tol=None. If tol is not None, max_iter defaults to max_iter=1000. From 0.21, default max_iter will be 1000, and default tol will be 1e-3.\n",
      "  FutureWarning)\n"
     ]
    }
   ],
   "source": [
    "# Run grid search for the given model\n",
    "\n",
    "reg_utils.hyperparameter_search(parameters, pipeline, train_df, labels_train)"
   ]
  },
  {
   "cell_type": "code",
   "execution_count": 23,
   "metadata": {},
   "outputs": [],
   "source": [
    "pipeline = Pipeline([\n",
    "    ('tfidf', TfidfVectorizer(max_features = 50,\n",
    "                        ngram_range = (1, 1),\n",
    "                        min_df = 3,\n",
    "                        max_df = 200)),\n",
    "     ('model', SGDRegressor(learning_rate= 'adaptive',\n",
    "                            eta0= 0.01))\n",
    "   ])"
   ]
  },
  {
   "cell_type": "code",
   "execution_count": 24,
   "metadata": {},
   "outputs": [
    {
     "name": "stderr",
     "output_type": "stream",
     "text": [
      "/Users/mirayyuce/.virtualenvs/thesis/lib/python3.7/site-packages/sklearn/linear_model/stochastic_gradient.py:144: FutureWarning: max_iter and tol parameters have been added in SGDRegressor in 0.19. If both are left unset, they default to max_iter=5 and tol=None. If tol is not None, max_iter defaults to max_iter=1000. From 0.21, default max_iter will be 1000, and default tol will be 1e-3.\n",
      "  FutureWarning)\n"
     ]
    },
    {
     "data": {
      "text/plain": [
       "Pipeline(memory=None,\n",
       "     steps=[('tfidf', TfidfVectorizer(analyzer='word', binary=False, decode_error='strict',\n",
       "        dtype=<class 'numpy.float64'>, encoding='utf-8', input='content',\n",
       "        lowercase=True, max_df=200, max_features=50, min_df=3,\n",
       "        ngram_range=(1, 1), norm='l2', preprocessor=None, smooth_idf=True,\n",
       " ...m_state=None, shuffle=True, tol=None, validation_fraction=0.1,\n",
       "       verbose=0, warm_start=False))])"
      ]
     },
     "execution_count": 24,
     "metadata": {},
     "output_type": "execute_result"
    }
   ],
   "source": [
    "pipeline.fit(train_df, labels_train)"
   ]
  },
  {
   "cell_type": "code",
   "execution_count": 25,
   "metadata": {},
   "outputs": [
    {
     "data": {
      "text/plain": [
       "0.05613324851212265"
      ]
     },
     "execution_count": 25,
     "metadata": {},
     "output_type": "execute_result"
    }
   ],
   "source": [
    "pipeline.score(test_df, labels_test)"
   ]
  },
  {
   "cell_type": "code",
   "execution_count": 26,
   "metadata": {},
   "outputs": [],
   "source": [
    "labels_pred = pipeline.predict(test_df)"
   ]
  },
  {
   "cell_type": "code",
   "execution_count": 27,
   "metadata": {},
   "outputs": [
    {
     "data": {
      "text/plain": [
       "0.0007041780291948364"
      ]
     },
     "execution_count": 27,
     "metadata": {},
     "output_type": "execute_result"
    }
   ],
   "source": [
    "mean_squared_error(labels_pred, labels_test)"
   ]
  },
  {
   "cell_type": "code",
   "execution_count": 28,
   "metadata": {},
   "outputs": [
    {
     "data": {
      "text/plain": [
       "['agora',\n",
       " 'alguns',\n",
       " 'ante',\n",
       " 'aqui',\n",
       " 'caso',\n",
       " 'cliente',\n",
       " 'clientes',\n",
       " 'coisas',\n",
       " 'criar',\n",
       " 'dado',\n",
       " 'dentro',\n",
       " 'desenvolvimento',\n",
       " 'deve',\n",
       " 'digital',\n",
       " 'diz',\n",
       " 'então',\n",
       " 'gestão',\n",
       " 'google',\n",
       " 'grande',\n",
       " 'hoje',\n",
       " 'informações',\n",
       " 'internet',\n",
       " 'menos',\n",
       " 'milhões',\n",
       " 'negócio',\n",
       " 'negócios',\n",
       " 'novo',\n",
       " 'onde',\n",
       " 'outras',\n",
       " 'parte',\n",
       " 'paulo',\n",
       " 'plataforma',\n",
       " 'possível',\n",
       " 'primeiro',\n",
       " 'processo',\n",
       " 'produtos',\n",
       " 'projeto',\n",
       " 'projetos',\n",
       " 'qualquer',\n",
       " 'rede',\n",
       " 'segundo',\n",
       " 'seguro',\n",
       " 'sempre',\n",
       " 'serviços',\n",
       " 'sistema',\n",
       " 'trabalho',\n",
       " 'tudo',\n",
       " 'usuário',\n",
       " 'valor',\n",
       " 'vida']"
      ]
     },
     "execution_count": 28,
     "metadata": {},
     "output_type": "execute_result"
    }
   ],
   "source": [
    "pipeline.named_steps['tfidf'].get_feature_names()"
   ]
  },
  {
   "cell_type": "code",
   "execution_count": 29,
   "metadata": {},
   "outputs": [
    {
     "data": {
      "text/plain": [
       "['Regression_PT_pipeline.pkl']"
      ]
     },
     "execution_count": 29,
     "metadata": {},
     "output_type": "execute_result"
    }
   ],
   "source": [
    "joblib.dump(pipeline, '/home/Virality_Predictor/models/Regression_PT_pipeline.pkl')"
   ]
  },
  {
   "cell_type": "code",
   "execution_count": null,
   "metadata": {},
   "outputs": [],
   "source": []
  }
 ],
 "metadata": {
  "kernelspec": {
   "display_name": "Python 3",
   "language": "python",
   "name": "python3"
  },
  "language_info": {
   "codemirror_mode": {
    "name": "ipython",
    "version": 3
   },
   "file_extension": ".py",
   "mimetype": "text/x-python",
   "name": "python",
   "nbconvert_exporter": "python",
   "pygments_lexer": "ipython3",
   "version": "3.7.3"
  }
 },
 "nbformat": 4,
 "nbformat_minor": 4
}
