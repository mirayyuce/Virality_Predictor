{
 "cells": [
  {
   "cell_type": "code",
   "execution_count": 18,
   "metadata": {},
   "outputs": [],
   "source": [
    "import Utils as utils\n",
    "import TFIDF_Regression_Utils as reg_utils\n",
    "\n",
    "import pandas as pd\n",
    "import numpy as np\n",
    "from sklearn.externals import joblib\n",
    "\n",
    "from sklearn.feature_extraction.text import TfidfVectorizer\n",
    "from sklearn.pipeline import Pipeline\n",
    "from sklearn.linear_model import SGDRegressor\n",
    "from sklearn.metrics import mean_squared_error\n",
    "\n",
    "import matplotlib\n",
    "matplotlib.use('MacOSX')\n",
    "%matplotlib inline\n",
    "from matplotlib import pyplot as plt"
   ]
  },
  {
   "cell_type": "code",
   "execution_count": 19,
   "metadata": {},
   "outputs": [],
   "source": [
    "###### TO LOAD PIPELINE ########\n",
    "# pipeline = joblib.load('/home/Virality_Predictor/models/Regression_EN_pipeline.pkl') "
   ]
  },
  {
   "cell_type": "code",
   "execution_count": 2,
   "metadata": {},
   "outputs": [
    {
     "name": "stderr",
     "output_type": "stream",
     "text": [
      "/Users/mirayyuce/Desktop/Projects/Virality_Predictor/Utils.py:82: SettingWithCopyWarning: \n",
      "A value is trying to be set on a copy of a slice from a DataFrame.\n",
      "Try using .loc[row_indexer,col_indexer] = value instead\n",
      "\n",
      "See the caveats in the documentation: https://pandas.pydata.org/pandas-docs/stable/user_guide/indexing.html#returning-a-view-versus-a-copy\n",
      "  df['domain_name'] = df['url'].apply(split_url)\n"
     ]
    }
   ],
   "source": [
    "# Load articles\n",
    "shared_articles_df = utils.load_shared_articles('shared_articles.csv', ['en'])\n",
    "\n",
    "# Load users with raw virality values\n",
    "user_interactions_df_raw = utils.load_user_interactions('users_interactions.csv', shared_articles_df, to_normalize=False)"
   ]
  },
  {
   "cell_type": "code",
   "execution_count": 3,
   "metadata": {},
   "outputs": [],
   "source": [
    "# Calculate normalized virality \n",
    "shared_articles_df = reg_utils.calculate_virality(shared_articles_df, user_interactions_df_raw)"
   ]
  },
  {
   "cell_type": "code",
   "execution_count": 4,
   "metadata": {},
   "outputs": [
    {
     "name": "stdout",
     "output_type": "stream",
     "text": [
      "Dataset shapes: Train data 1719 , Test data 430 , Train labels  1719 , Test labels 430\n"
     ]
    }
   ],
   "source": [
    "# Create train and test sets\n",
    "articles_train, labels_train, articles_test, labels_test = reg_utils.get_train_test_datasets(shared_articles_df)"
   ]
  },
  {
   "cell_type": "code",
   "execution_count": 5,
   "metadata": {},
   "outputs": [],
   "source": [
    "# Load cleaned text from /datasets\n",
    "train_df = reg_utils.clean_all_text(load=True, df=articles_train, name='articles_train_EN', lang='en')\n",
    "test_df = reg_utils.clean_all_text(load=True, df=articles_test, name='articles_test_EN', lang='en')"
   ]
  },
  {
   "cell_type": "code",
   "execution_count": 6,
   "metadata": {},
   "outputs": [],
   "source": [
    "# Parameters set for grid search\n",
    "\n",
    "parameters = {\n",
    "'model__learning_rate': ('constant', 'optimal', 'adaptive'),\n",
    "'model__eta0': (0.1, 0.01, 0.001),  \n",
    "}"
   ]
  },
  {
   "cell_type": "code",
   "execution_count": 7,
   "metadata": {},
   "outputs": [],
   "source": [
    "pipeline = Pipeline([\n",
    "    ('tfidf', TfidfVectorizer(max_features = 50,\n",
    "                        ngram_range = (1, 1),\n",
    "                        min_df = 3,\n",
    "                        max_df = 200)),\n",
    "     ('model', SGDRegressor())\n",
    "   ])"
   ]
  },
  {
   "cell_type": "code",
   "execution_count": 8,
   "metadata": {},
   "outputs": [
    {
     "name": "stdout",
     "output_type": "stream",
     "text": [
      "model__eta0: 0.01\n",
      "model__learning_rate: 'constant'\n",
      "{'mean_fit_time': array([2.39180334, 2.13651745, 2.09034864, 2.27103209, 2.45637441,\n",
      "       2.58608135, 2.70478233, 2.68191973, 2.0196677 ]), 'std_fit_time': array([0.05697837, 0.12000692, 0.1927234 , 0.07343953, 0.10380488,\n",
      "       0.18528218, 0.26356858, 0.29042156, 0.02068962]), 'mean_score_time': array([0.92423217, 1.19902293, 1.26872333, 1.00620929, 1.09202131,\n",
      "       1.07623299, 1.03056113, 1.30037705, 0.78072262]), 'std_score_time': array([0.08482565, 0.13842939, 0.25081099, 0.09718332, 0.08914669,\n",
      "       0.13846503, 0.05530157, 0.25807994, 0.07162826]), 'param_model__eta0': masked_array(data=[0.1, 0.1, 0.1, 0.01, 0.01, 0.01, 0.001, 0.001, 0.001],\n",
      "             mask=[False, False, False, False, False, False, False, False,\n",
      "                   False],\n",
      "       fill_value='?',\n",
      "            dtype=object), 'param_model__learning_rate': masked_array(data=['constant', 'optimal', 'adaptive', 'constant',\n",
      "                   'optimal', 'adaptive', 'constant', 'optimal',\n",
      "                   'adaptive'],\n",
      "             mask=[False, False, False, False, False, False, False, False,\n",
      "                   False],\n",
      "       fill_value='?',\n",
      "            dtype=object), 'params': [{'model__eta0': 0.1, 'model__learning_rate': 'constant'}, {'model__eta0': 0.1, 'model__learning_rate': 'optimal'}, {'model__eta0': 0.1, 'model__learning_rate': 'adaptive'}, {'model__eta0': 0.01, 'model__learning_rate': 'constant'}, {'model__eta0': 0.01, 'model__learning_rate': 'optimal'}, {'model__eta0': 0.01, 'model__learning_rate': 'adaptive'}, {'model__eta0': 0.001, 'model__learning_rate': 'constant'}, {'model__eta0': 0.001, 'model__learning_rate': 'optimal'}, {'model__eta0': 0.001, 'model__learning_rate': 'adaptive'}], 'split0_test_score': array([-1.21888116e-01, -1.70706720e+23, -1.00279296e-01, -3.63708832e-03,\n",
      "       -4.26356967e+22, -5.43136973e-03, -1.26183195e-01, -7.80175294e+22,\n",
      "       -1.26105232e-01]), 'split1_test_score': array([ 2.18184197e-02, -2.37026271e+22,  8.57410219e-03,  2.55486285e-02,\n",
      "       -2.06806634e+22,  2.55611637e-02, -4.47870800e-02, -3.12254319e+22,\n",
      "       -4.47134554e-02]), 'split2_test_score': array([ 2.32999300e-02, -2.74096621e+22,  2.53086176e-02,  2.38574502e-02,\n",
      "       -2.54910032e+21,  2.35312209e-02, -8.78121046e-02, -6.66935083e+21,\n",
      "       -8.80783138e-02]), 'mean_test_score': array([-2.55899222e-02, -7.39396696e+22, -2.21321921e-02,  1.52563301e-02,\n",
      "       -2.19551535e+22,  1.45536716e-02, -8.62607931e-02, -3.86374374e+22,\n",
      "       -8.62990005e-02]), 'std_test_score': array([6.80957922e-02, 6.84413715e+22, 5.56790708e-02, 1.33774927e-02,\n",
      "       1.63900792e+22, 1.41558369e-02, 3.32479253e-02, 2.95955404e+22,\n",
      "       3.32518651e-02]), 'rank_test_score': array([4, 9, 3, 1, 7, 2, 5, 8, 6], dtype=int32), 'split0_train_score': array([ 7.22298225e-02, -6.50961376e+22,  7.07306902e-02,  6.84005107e-02,\n",
      "       -1.52792906e+22,  6.90649730e-02, -4.45138907e-02, -2.67836760e+22,\n",
      "       -4.44546226e-02]), 'split1_train_score': array([ 6.00560779e-02, -7.28802605e+22,  5.78179753e-02,  5.78697871e-02,\n",
      "       -6.69058035e+22,  5.77693541e-02, -1.07542924e-01, -9.13024475e+22,\n",
      "       -1.07404367e-01]), 'split2_train_score': array([ 5.85671266e-02, -1.59894058e+22,  5.41368780e-02,  5.74641318e-02,\n",
      "       -1.49694480e+21,  5.73766998e-02, -5.59417896e-02, -3.89484949e+21,\n",
      "       -5.61495011e-02]), 'mean_train_score': array([ 6.36176757e-02, -5.13219346e+22,  6.08951812e-02,  6.12448099e-02,\n",
      "       -2.78940130e+22,  6.14036757e-02, -6.93328679e-02, -4.06603243e+22,\n",
      "       -6.93361634e-02]), 'std_train_score': array([6.11996996e-03, 2.51851655e+22, 7.11526750e-03, 5.06255404e-03,\n",
      "       2.81534855e+22, 5.41972643e-03, 2.74184303e-02, 3.70084952e+22,\n",
      "       2.73384176e-02])}\n",
      "0.015256330136977877\n",
      "<function _passthrough_scorer at 0x1231e02f0>\n"
     ]
    },
    {
     "name": "stderr",
     "output_type": "stream",
     "text": [
      "/Users/mirayyuce/.virtualenvs/thesis/lib/python3.7/site-packages/sklearn/linear_model/stochastic_gradient.py:144: FutureWarning: max_iter and tol parameters have been added in SGDRegressor in 0.19. If both are left unset, they default to max_iter=5 and tol=None. If tol is not None, max_iter defaults to max_iter=1000. From 0.21, default max_iter will be 1000, and default tol will be 1e-3.\n",
      "  FutureWarning)\n"
     ]
    }
   ],
   "source": [
    "# Run grid search for the given model\n",
    "\n",
    "reg_utils.hyperparameter_search(parameters, pipeline, train_df, labels_train)"
   ]
  },
  {
   "cell_type": "code",
   "execution_count": 9,
   "metadata": {},
   "outputs": [],
   "source": [
    "pipeline = Pipeline([\n",
    "    ('tfidf', TfidfVectorizer(max_features = 50,\n",
    "                        ngram_range = (1, 1),\n",
    "                        min_df = 3,\n",
    "                        max_df = 200)),\n",
    "     ('model', SGDRegressor(learning_rate= 'constant',\n",
    "                            eta0= 0.01))\n",
    "   ])"
   ]
  },
  {
   "cell_type": "code",
   "execution_count": 10,
   "metadata": {},
   "outputs": [
    {
     "name": "stderr",
     "output_type": "stream",
     "text": [
      "/Users/mirayyuce/.virtualenvs/thesis/lib/python3.7/site-packages/sklearn/linear_model/stochastic_gradient.py:144: FutureWarning: max_iter and tol parameters have been added in SGDRegressor in 0.19. If both are left unset, they default to max_iter=5 and tol=None. If tol is not None, max_iter defaults to max_iter=1000. From 0.21, default max_iter will be 1000, and default tol will be 1e-3.\n",
      "  FutureWarning)\n"
     ]
    },
    {
     "data": {
      "text/plain": [
       "Pipeline(memory=None,\n",
       "     steps=[('tfidf', TfidfVectorizer(analyzer='word', binary=False, decode_error='strict',\n",
       "        dtype=<class 'numpy.float64'>, encoding='utf-8', input='content',\n",
       "        lowercase=True, max_df=200, max_features=50, min_df=3,\n",
       "        ngram_range=(1, 1), norm='l2', preprocessor=None, smooth_idf=True,\n",
       " ...m_state=None, shuffle=True, tol=None, validation_fraction=0.1,\n",
       "       verbose=0, warm_start=False))])"
      ]
     },
     "execution_count": 10,
     "metadata": {},
     "output_type": "execute_result"
    }
   ],
   "source": [
    "pipeline.fit(train_df, labels_train)"
   ]
  },
  {
   "cell_type": "code",
   "execution_count": 11,
   "metadata": {},
   "outputs": [
    {
     "data": {
      "text/plain": [
       "0.037858791306834116"
      ]
     },
     "execution_count": 11,
     "metadata": {},
     "output_type": "execute_result"
    }
   ],
   "source": [
    "pipeline.score(test_df, labels_test)"
   ]
  },
  {
   "cell_type": "code",
   "execution_count": 12,
   "metadata": {},
   "outputs": [],
   "source": [
    "labels_pred = pipeline.predict(test_df)"
   ]
  },
  {
   "cell_type": "code",
   "execution_count": 13,
   "metadata": {},
   "outputs": [
    {
     "data": {
      "text/plain": [
       "['ad',\n",
       " 'ai',\n",
       " 'algorithm',\n",
       " 'analytics',\n",
       " 'architecture',\n",
       " 'artificial',\n",
       " 'aws',\n",
       " 'bank',\n",
       " 'bitcoin',\n",
       " 'blockchain',\n",
       " 'bot',\n",
       " 'brand',\n",
       " 'browser',\n",
       " 'button',\n",
       " 'car',\n",
       " 'card',\n",
       " 'class',\n",
       " 'command',\n",
       " 'compute',\n",
       " 'container',\n",
       " 'database',\n",
       " 'docker',\n",
       " 'drupal',\n",
       " 'element',\n",
       " 'enterprise',\n",
       " 'error',\n",
       " 'financial',\n",
       " 'growth',\n",
       " 'host',\n",
       " 'input',\n",
       " 'java',\n",
       " 'javascript',\n",
       " 'layer',\n",
       " 'leader',\n",
       " 'load',\n",
       " 'map',\n",
       " 'marketing',\n",
       " 'module',\n",
       " 'neural',\n",
       " 'node',\n",
       " 'pattern',\n",
       " 'percent',\n",
       " 'query',\n",
       " 'rule',\n",
       " 'sale',\n",
       " 'science',\n",
       " 'storage',\n",
       " 'stream',\n",
       " 'study',\n",
       " 'window']"
      ]
     },
     "execution_count": 13,
     "metadata": {},
     "output_type": "execute_result"
    }
   ],
   "source": [
    "pipeline.named_steps['tfidf'].get_feature_names()"
   ]
  },
  {
   "cell_type": "code",
   "execution_count": 14,
   "metadata": {},
   "outputs": [
    {
     "data": {
      "text/plain": [
       "['Regression_EN_pipeline.pkl']"
      ]
     },
     "execution_count": 14,
     "metadata": {},
     "output_type": "execute_result"
    }
   ],
   "source": [
    "joblib.dump(pipeline, '/home/Virality_Predictor/models/Regression_EN_pipeline.pkl')"
   ]
  }
 ],
 "metadata": {
  "kernelspec": {
   "display_name": "Python 3",
   "language": "python",
   "name": "python3"
  },
  "language_info": {
   "codemirror_mode": {
    "name": "ipython",
    "version": 3
   },
   "file_extension": ".py",
   "mimetype": "text/x-python",
   "name": "python",
   "nbconvert_exporter": "python",
   "pygments_lexer": "ipython3",
   "version": "3.7.3"
  }
 },
 "nbformat": 4,
 "nbformat_minor": 4
}
